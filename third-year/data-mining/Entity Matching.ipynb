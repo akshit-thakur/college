{
 "cells": [
  {
   "cell_type": "markdown",
   "metadata": {},
   "source": [
    "## Importing libraries"
   ]
  },
  {
   "cell_type": "code",
   "execution_count": 1,
   "metadata": {},
   "outputs": [],
   "source": [
    "from nltk.metrics import *\n",
    "import jellyfish\n",
    "import mysql.connector "
   ]
  },
  {
   "cell_type": "markdown",
   "metadata": {},
   "source": [
    "## Connecting to Database and Cursor creation"
   ]
  },
  {
   "cell_type": "code",
   "execution_count": 2,
   "metadata": {},
   "outputs": [],
   "source": [
    "db = mysql.connector.connect(user='root',password='',host='localhost',database='test')\n",
    "\n",
    "cursor = db.cursor(buffered=True)"
   ]
  },
  {
   "cell_type": "markdown",
   "metadata": {},
   "source": [
    "## Populating the result table"
   ]
  },
  {
   "cell_type": "code",
   "execution_count": 3,
   "metadata": {},
   "outputs": [
    {
     "ename": "IntegrityError",
     "evalue": "1062 (23000): Duplicate entry 'aalib-ruby-aalib-ruby' for key 'PRIMARY'",
     "output_type": "error",
     "traceback": [
      "\u001b[1;31m---------------------------------------------------------------------------\u001b[0m",
      "\u001b[1;31mMySQLInterfaceError\u001b[0m                       Traceback (most recent call last)",
      "\u001b[1;32m~\\Anaconda3\\lib\\site-packages\\mysql\\connector\\connection_cext.py\u001b[0m in \u001b[0;36mcmd_query\u001b[1;34m(self, query, raw, buffered, raw_as_string)\u001b[0m\n\u001b[0;32m    488\u001b[0m                                \u001b[0mraw\u001b[0m\u001b[1;33m=\u001b[0m\u001b[0mraw\u001b[0m\u001b[1;33m,\u001b[0m \u001b[0mbuffered\u001b[0m\u001b[1;33m=\u001b[0m\u001b[0mbuffered\u001b[0m\u001b[1;33m,\u001b[0m\u001b[1;33m\u001b[0m\u001b[1;33m\u001b[0m\u001b[0m\n\u001b[1;32m--> 489\u001b[1;33m                                raw_as_string=raw_as_string)\n\u001b[0m\u001b[0;32m    490\u001b[0m         \u001b[1;32mexcept\u001b[0m \u001b[0mMySQLInterfaceError\u001b[0m \u001b[1;32mas\u001b[0m \u001b[0mexc\u001b[0m\u001b[1;33m:\u001b[0m\u001b[1;33m\u001b[0m\u001b[1;33m\u001b[0m\u001b[0m\n",
      "\u001b[1;31mMySQLInterfaceError\u001b[0m: Duplicate entry 'aalib-ruby-aalib-ruby' for key 'PRIMARY'",
      "\nDuring handling of the above exception, another exception occurred:\n",
      "\u001b[1;31mIntegrityError\u001b[0m                            Traceback (most recent call last)",
      "\u001b[1;32m<ipython-input-3-f54297a40268>\u001b[0m in \u001b[0;36m<module>\u001b[1;34m\u001b[0m\n\u001b[0;32m      5\u001b[0m                 \u001b[0mFROM\u001b[0m \u001b[0mtest\u001b[0m\u001b[1;33m.\u001b[0m\u001b[0mbook_rf_entities\u001b[0m \u001b[0mrf\u001b[0m\u001b[0;31m\\\u001b[0m\u001b[1;33m\u001b[0m\u001b[1;33m\u001b[0m\u001b[0m\n\u001b[0;32m      6\u001b[0m                 \u001b[0mINNER\u001b[0m \u001b[0mJOIN\u001b[0m \u001b[0mtest\u001b[0m\u001b[1;33m.\u001b[0m\u001b[0mbook_rg_entities\u001b[0m \u001b[0mrg\u001b[0m\u001b[0;31m\\\u001b[0m\u001b[1;33m\u001b[0m\u001b[1;33m\u001b[0m\u001b[0m\n\u001b[1;32m----> 7\u001b[1;33m                 ON rf.url = rg.url\")\n\u001b[0m",
      "\u001b[1;32m~\\Anaconda3\\lib\\site-packages\\mysql\\connector\\cursor_cext.py\u001b[0m in \u001b[0;36mexecute\u001b[1;34m(self, operation, params, multi)\u001b[0m\n\u001b[0;32m    264\u001b[0m             result = self._cnx.cmd_query(stmt, raw=self._raw,\n\u001b[0;32m    265\u001b[0m                                          \u001b[0mbuffered\u001b[0m\u001b[1;33m=\u001b[0m\u001b[0mself\u001b[0m\u001b[1;33m.\u001b[0m\u001b[0m_buffered\u001b[0m\u001b[1;33m,\u001b[0m\u001b[1;33m\u001b[0m\u001b[1;33m\u001b[0m\u001b[0m\n\u001b[1;32m--> 266\u001b[1;33m                                          raw_as_string=self._raw_as_string)\n\u001b[0m\u001b[0;32m    267\u001b[0m         \u001b[1;32mexcept\u001b[0m \u001b[0mMySQLInterfaceError\u001b[0m \u001b[1;32mas\u001b[0m \u001b[0mexc\u001b[0m\u001b[1;33m:\u001b[0m\u001b[1;33m\u001b[0m\u001b[1;33m\u001b[0m\u001b[0m\n\u001b[0;32m    268\u001b[0m             raise errors.get_mysql_exception(msg=exc.msg, errno=exc.errno,\n",
      "\u001b[1;32m~\\Anaconda3\\lib\\site-packages\\mysql\\connector\\connection_cext.py\u001b[0m in \u001b[0;36mcmd_query\u001b[1;34m(self, query, raw, buffered, raw_as_string)\u001b[0m\n\u001b[0;32m    490\u001b[0m         \u001b[1;32mexcept\u001b[0m \u001b[0mMySQLInterfaceError\u001b[0m \u001b[1;32mas\u001b[0m \u001b[0mexc\u001b[0m\u001b[1;33m:\u001b[0m\u001b[1;33m\u001b[0m\u001b[1;33m\u001b[0m\u001b[0m\n\u001b[0;32m    491\u001b[0m             raise errors.get_mysql_exception(exc.errno, msg=exc.msg,\n\u001b[1;32m--> 492\u001b[1;33m                                              sqlstate=exc.sqlstate)\n\u001b[0m\u001b[0;32m    493\u001b[0m         \u001b[1;32mexcept\u001b[0m \u001b[0mAttributeError\u001b[0m\u001b[1;33m:\u001b[0m\u001b[1;33m\u001b[0m\u001b[1;33m\u001b[0m\u001b[0m\n\u001b[0;32m    494\u001b[0m             \u001b[1;32mif\u001b[0m \u001b[0mself\u001b[0m\u001b[1;33m.\u001b[0m\u001b[0m_unix_socket\u001b[0m\u001b[1;33m:\u001b[0m\u001b[1;33m\u001b[0m\u001b[1;33m\u001b[0m\u001b[0m\n",
      "\u001b[1;31mIntegrityError\u001b[0m: 1062 (23000): Duplicate entry 'aalib-ruby-aalib-ruby' for key 'PRIMARY'"
     ]
    }
   ],
   "source": [
    "# Checks for matching entries based on URLs in the table\n",
    "\n",
    "cursor.execute(\"INSERT INTO book_entity_matches (rf_project_name,rg_project_name)\\\n",
    "                SELECT rf.project_name,rg.project_name\\\n",
    "                FROM test.book_rf_entities rf\\\n",
    "                INNER JOIN test.book_rg_entities rg\\\n",
    "                ON rf.url = rg.url\")"
   ]
  },
  {
   "cell_type": "code",
   "execution_count": 4,
   "metadata": {},
   "outputs": [],
   "source": [
    "# Checks for matching entries based on matching project names\n",
    "cursor.execute(\"INSERT INTO book_entity_matches(rf_project_name, \\\n",
    "                                                rg_project_name) \\\n",
    "                SELECT rf.project_name, rg.project_name \\\n",
    "                FROM test.book_rf_entities rf \\\n",
    "                INNER JOIN test.book_rg_entities rg \\\n",
    "                ON rf.project_name = rg.project_name \\\n",
    "                WHERE rf.project_name NOT IN ( \\\n",
    "                    SELECT bem.rf_project_name \\\n",
    "                    FROM book_entity_matches bem)\")"
   ]
  },
  {
   "cell_type": "markdown",
   "metadata": {},
   "source": [
    "## Utility Queries\n",
    "\n",
    "#### First query \n",
    "returns the dev's username and realname from rf people table WHERE \n",
    "either the username or the realname matches the 'person_name' in rg people table\n",
    "\n",
    "#### Second query\n",
    "upates the row for (rf project,rg project) names and sets the flags and distances to appropriate values"
   ]
  },
  {
   "cell_type": "code",
   "execution_count": 5,
   "metadata": {},
   "outputs": [],
   "source": [
    "#first query\n",
    "peopleQuery = \"SELECT rf.dev_username, rf.dev_realname \\\n",
    "               FROM test.book_rf_entity_people rf \\\n",
    "               WHERE rf.project_name =  %s \\\n",
    "               AND (rf.dev_username IN ( \\\n",
    "                    SELECT rg.person_name \\\n",
    "                    FROM test.book_rg_entity_people rg \\\n",
    "                    WHERE rg.project_name =  %s) \\\n",
    "                    OR \\\n",
    "                    rf.dev_realname IN ( \\\n",
    "                    SELECT rg.person_name \\\n",
    "                    FROM test.book_rg_entity_people rg \\\n",
    "                    WHERE rg.project_name = %s))\""
   ]
  },
  {
   "cell_type": "code",
   "execution_count": 6,
   "metadata": {},
   "outputs": [],
   "source": [
    "#second query\n",
    "updateQuery = \"UPDATE book_entity_matches\\\n",
    "                SET rf_name_soundex = %s,\\\n",
    "                    rg_name_soundex = %s,\\\n",
    "                    url_levenshtein = %s,\\\n",
    "                    name_levenshtein = %s,\\\n",
    "                    rf_name_in_rg_name = %s,\\\n",
    "                    rf_name_in_rg_url = %s,\\\n",
    "                    rf_dev_in_rg_dev = %s\\\n",
    "                WHERE rf_project_name = %s\\\n",
    "                AND rg_project_name = %s\""
   ]
  },
  {
   "cell_type": "markdown",
   "metadata": {},
   "source": [
    "## Updating the populated table"
   ]
  },
  {
   "cell_type": "markdown",
   "metadata": {},
   "source": [
    "### Finding the project pairs "
   ]
  },
  {
   "cell_type": "code",
   "execution_count": 7,
   "metadata": {},
   "outputs": [],
   "source": [
    "#make the pair and put in projectPairs\n",
    "cursor.execute(\"SELECT bem.rf_project_name, bem.rg_project_name, \\\n",
    "                       rfe.url, rge.url \\\n",
    "                FROM test.book_entity_matches bem \\\n",
    "                    INNER JOIN test.book_rg_entities rge \\\n",
    "                      ON bem.rg_project_name = rge.project_name \\\n",
    "                    INNER JOIN test.book_rf_entities rfe \\\n",
    "                      ON bem.rf_project_name = rfe.project_name \\\n",
    "                ORDER BY bem.rf_project_name\")\n",
    "\n",
    "projectPairs = cursor.fetchall()"
   ]
  },
  {
   "cell_type": "markdown",
   "metadata": {},
   "source": [
    "### Processing the project pairs"
   ]
  },
  {
   "cell_type": "code",
   "execution_count": 8,
   "metadata": {},
   "outputs": [],
   "source": [
    "# for each pair, fill the other columns as per process.\n",
    "\n",
    "for(projectPair) in projectPairs:\n",
    "    RFname = projectPair[0]\n",
    "    RGname = projectPair[1]\n",
    "    RFurl = projectPair[2]\n",
    "    RGurl = projectPair[3]\n",
    "    \n",
    "    # lowercase everything\n",
    "    RFnameLC = RFname.lower()\n",
    "    RGnameLC = RGname.lower()\n",
    "    RFurlLC = RFurl.lower()\n",
    "    RGurlLC = RGurl.lower()\n",
    "    \n",
    "    # calculate string metrics\n",
    "    levNames = edit_distance(RFnameLC,RGnameLC)\n",
    "    levURLs = edit_distance(RFurlLC,RGurlLC)\n",
    "    soundexRFname = jellyfish.soundex(RFnameLC)\n",
    "    soundexRGname = jellyfish.soundex(RGnameLC)\n",
    "    \n",
    "    # is the RF project name inside the RG project name?\n",
    "    if RFnameLC in RGnameLC:\n",
    "        rf_in_rg = 1\n",
    "    else:\n",
    "        rf_in_rg = 0\n",
    "    \n",
    "    # is the RF project name inside the RG project URL?\n",
    "    if RFnameLC in RGurlLC:\n",
    "        rf_in_rgurl = 1\n",
    "    else:\n",
    "        rf_in_rgurl = 0\n",
    "        \n",
    "    #is any dev on RF candidate(result table) in the dev list for RG candidate\n",
    "    cursor.execute(peopleQuery,(RFname,RGname,RGname))\n",
    "    result = cursor.fetchone()\n",
    "    if result is not None:\n",
    "        rfdev_in_rgdev = 1\n",
    "    else:\n",
    "        rfdev_in_rgdev = 0\n",
    "    \n",
    "    cursor.execute(updateQuery,(soundexRFname,soundexRGname,levURLs,levNames,rf_in_rg,rf_in_rgurl,rfdev_in_rgdev,RFname,RGname))\n",
    "    "
   ]
  },
  {
   "cell_type": "markdown",
   "metadata": {},
   "source": [
    "## Calculating Results\n",
    "### Total number of rows in result table"
   ]
  },
  {
   "cell_type": "code",
   "execution_count": 9,
   "metadata": {},
   "outputs": [
    {
     "name": "stdout",
     "output_type": "stream",
     "text": [
      "The total rows in result table is: 5400\n"
     ]
    }
   ],
   "source": [
    "#Calculate the total rows in result table\n",
    "cursor.execute(\"SELECT * FROM book_entity_matches\")    \n",
    "p = cursor.fetchall()\n",
    "print(f\"The total rows in result table is: {len(p)}\")"
   ]
  },
  {
   "cell_type": "markdown",
   "metadata": {},
   "source": [
    "### True Positives in the result table (Our guess is positive as well as the answer)\n",
    "Everything matched to requirements"
   ]
  },
  {
   "cell_type": "code",
   "execution_count": 10,
   "metadata": {},
   "outputs": [
    {
     "name": "stdout",
     "output_type": "stream",
     "text": [
      "The number of true positives are 1046\n"
     ]
    }
   ],
   "source": [
    "cursor.execute(\"SELECT rf_project_name,rg_project_name \\\n",
    "                FROM book_entity_matches \\\n",
    "                WHERE name_levenshtein = 0 \\\n",
    "                AND url_levenshtein = 0 \\\n",
    "                AND rf_name_in_rg_url = 1 \\\n",
    "                AND rf_dev_in_rg_dev = 1\")\n",
    "\n",
    "truePositives = cursor.fetchall()\n",
    "print(f\"The number of true positives are {len(truePositives)}\")"
   ]
  },
  {
   "cell_type": "markdown",
   "metadata": {},
   "source": [
    "### False Positives in result table (Our guess is positive but result is negative)\n",
    "\n",
    "##### First Query\n",
    "Finding the results where names matched but nothing else did\n",
    "##### Second Query\n",
    "Finding the results where urls matched but nothing else did"
   ]
  },
  {
   "cell_type": "code",
   "execution_count": 11,
   "metadata": {},
   "outputs": [
    {
     "name": "stdout",
     "output_type": "stream",
     "text": [
      "The number of false positives are 106\n"
     ]
    }
   ],
   "source": [
    "cursor.execute(\"SELECT rf_project_name, rg_project_name \\\n",
    "                FROM book_entity_matches \\\n",
    "                WHERE name_levenshtein =0 \\\n",
    "                AND url_levenshtein > 0 \\\n",
    "                AND rf_name_in_rg_url =0 \\\n",
    "                AND rf_dev_in_rg_dev =0\")\n",
    "falsePositives1 = cursor.fetchall()\n",
    "print(f\"The number of false positives are {len(falsePositives1)}\")"
   ]
  },
  {
   "cell_type": "code",
   "execution_count": 12,
   "metadata": {},
   "outputs": [
    {
     "name": "stdout",
     "output_type": "stream",
     "text": [
      "The number of false positives are 104\n"
     ]
    }
   ],
   "source": [
    "cursor.execute(\"SELECT rf_project_name, rg_project_name \\\n",
    "                FROM book_entity_matches \\\n",
    "                WHERE url_levenshtein = 0 \\\n",
    "                AND rf_name_soundex <> rg_name_soundex \\\n",
    "                AND name_levenshtein > 0 \\\n",
    "                AND rf_name_in_rg_name = 0 \\\n",
    "                AND rf_name_in_rg_url = 0 \\\n",
    "                AND rf_dev_in_rg_dev = 0\")\n",
    "\n",
    "falsePositives2 = cursor.fetchall()\n",
    "print(f\"The number of false positives are {len(falsePositives2)}\")"
   ]
  },
  {
   "cell_type": "markdown",
   "metadata": {},
   "source": [
    "### Finding precision\n",
    "#### $$Precision = \\frac{ tp}{tp+fp}$$"
   ]
  },
  {
   "cell_type": "code",
   "execution_count": 13,
   "metadata": {},
   "outputs": [
    {
     "name": "stdout",
     "output_type": "stream",
     "text": [
      "Precision of our results is: 83.28%\n"
     ]
    }
   ],
   "source": [
    "precision = (len(truePositives)/(len(truePositives)+len(falsePositives1)+len(falsePositives2)))\n",
    "print(f\"Precision of our results is: {round(precision,5)*100}%\")"
   ]
  }
 ],
 "metadata": {
  "kernelspec": {
   "display_name": "Python 3",
   "language": "python",
   "name": "python3"
  },
  "language_info": {
   "codemirror_mode": {
    "name": "ipython",
    "version": 3
   },
   "file_extension": ".py",
   "mimetype": "text/x-python",
   "name": "python",
   "nbconvert_exporter": "python",
   "pygments_lexer": "ipython3",
   "version": "3.7.4"
  }
 },
 "nbformat": 4,
 "nbformat_minor": 4
}
